{
 "cells": [
  {
   "cell_type": "markdown",
   "id": "c124b7e6",
   "metadata": {},
   "source": [
    "## SVM"
   ]
  },
  {
   "cell_type": "markdown",
   "id": "5958e5c9",
   "metadata": {},
   "source": [
    "Q71. Explain linear SVM classification."
   ]
  },
  {
   "cell_type": "code",
   "execution_count": null,
   "id": "77a589f1",
   "metadata": {},
   "outputs": [],
   "source": []
  },
  {
   "cell_type": "markdown",
   "id": "26fd16ec",
   "metadata": {},
   "source": [
    "Q72. What is large margin classification?"
   ]
  },
  {
   "cell_type": "code",
   "execution_count": null,
   "id": "b6fcd9a9",
   "metadata": {},
   "outputs": [],
   "source": []
  },
  {
   "cell_type": "markdown",
   "id": "60b291b5",
   "metadata": {},
   "source": [
    "Q73. What is a support vector?"
   ]
  },
  {
   "cell_type": "code",
   "execution_count": null,
   "id": "61801297",
   "metadata": {},
   "outputs": [],
   "source": []
  },
  {
   "cell_type": "markdown",
   "id": "25c2e284",
   "metadata": {},
   "source": [
    "Q74. Are SVMs sensitive to scale of data?"
   ]
  },
  {
   "cell_type": "code",
   "execution_count": null,
   "id": "3db1242f",
   "metadata": {},
   "outputs": [],
   "source": []
  },
  {
   "cell_type": "markdown",
   "id": "bd481e85",
   "metadata": {},
   "source": [
    "Q75. What is hard margin classification? What is it's drawback?"
   ]
  },
  {
   "cell_type": "code",
   "execution_count": null,
   "id": "1e7065f5",
   "metadata": {},
   "outputs": [],
   "source": []
  },
  {
   "cell_type": "markdown",
   "id": "b57725ef",
   "metadata": {},
   "source": [
    "Q76. What is soft margin classification?"
   ]
  },
  {
   "cell_type": "code",
   "execution_count": null,
   "id": "81e60df0",
   "metadata": {},
   "outputs": [],
   "source": []
  },
  {
   "cell_type": "markdown",
   "id": "ddb32aef",
   "metadata": {},
   "source": [
    "Q77. What is a kernel in SVM?"
   ]
  },
  {
   "cell_type": "code",
   "execution_count": null,
   "id": "b1314330",
   "metadata": {},
   "outputs": [],
   "source": []
  },
  {
   "cell_type": "markdown",
   "id": "2c3aa4fe",
   "metadata": {},
   "source": [
    "Q78. How can we perform classification using SVC on huge datasets or streaming datasets?"
   ]
  },
  {
   "cell_type": "code",
   "execution_count": null,
   "id": "8c639947",
   "metadata": {},
   "outputs": [],
   "source": []
  },
  {
   "cell_type": "markdown",
   "id": "317590f1",
   "metadata": {},
   "source": [
    "Q79. Explain non-linear SVM classification."
   ]
  },
  {
   "cell_type": "code",
   "execution_count": null,
   "id": "0bde6316",
   "metadata": {},
   "outputs": [],
   "source": []
  },
  {
   "cell_type": "markdown",
   "id": "dad141d8",
   "metadata": {},
   "source": [
    "Q80. What is polymonial kernel and how can we use it for non-linear SVM classification?"
   ]
  },
  {
   "cell_type": "code",
   "execution_count": null,
   "id": "18c29559",
   "metadata": {},
   "outputs": [],
   "source": []
  },
  {
   "cell_type": "markdown",
   "id": "781c203f",
   "metadata": {},
   "source": [
    "Q81. Is there any limitation of polymonial kernel?"
   ]
  },
  {
   "cell_type": "code",
   "execution_count": null,
   "id": "4ac4f5ca",
   "metadata": {},
   "outputs": [],
   "source": []
  },
  {
   "cell_type": "markdown",
   "id": "ecc0ba04",
   "metadata": {},
   "source": [
    "Q82. What is kernel trick?"
   ]
  },
  {
   "cell_type": "code",
   "execution_count": null,
   "id": "5f8ba3d5",
   "metadata": {},
   "outputs": [],
   "source": []
  },
  {
   "cell_type": "markdown",
   "id": "fbb14b2f",
   "metadata": {},
   "source": [
    "Q83. How can we use similarity features to tackle nonliner problem?"
   ]
  },
  {
   "cell_type": "code",
   "execution_count": null,
   "id": "80e708c6",
   "metadata": {},
   "outputs": [],
   "source": []
  },
  {
   "cell_type": "markdown",
   "id": "f9172c80",
   "metadata": {},
   "source": [
    "Q84. What is Gaussian RBF kernel?"
   ]
  },
  {
   "cell_type": "code",
   "execution_count": null,
   "id": "fcadd1a4",
   "metadata": {},
   "outputs": [],
   "source": []
  },
  {
   "cell_type": "markdown",
   "id": "2b84c94c",
   "metadata": {},
   "source": [
    "Q85. Can we use SVMs for regression? If yes, explain how."
   ]
  },
  {
   "cell_type": "code",
   "execution_count": null,
   "id": "663775e3",
   "metadata": {},
   "outputs": [],
   "source": []
  },
  {
   "cell_type": "markdown",
   "id": "83ae1414",
   "metadata": {},
   "source": [
    "Q86. How SVM uses decision function to make predictions?"
   ]
  },
  {
   "cell_type": "code",
   "execution_count": null,
   "id": "6d73530c",
   "metadata": {},
   "outputs": [],
   "source": []
  },
  {
   "cell_type": "markdown",
   "id": "e16d2bd0",
   "metadata": {},
   "source": [
    "Q87. What is Dual Problem?"
   ]
  },
  {
   "cell_type": "code",
   "execution_count": null,
   "id": "f3dc1722",
   "metadata": {},
   "outputs": [],
   "source": []
  },
  {
   "cell_type": "markdown",
   "id": "b47abee7",
   "metadata": {},
   "source": [
    "Q88. Explain Kernelized SVM."
   ]
  },
  {
   "cell_type": "code",
   "execution_count": null,
   "id": "dfc7b9b8",
   "metadata": {},
   "outputs": [],
   "source": []
  },
  {
   "cell_type": "markdown",
   "id": "c2467087",
   "metadata": {},
   "source": [
    "Q89. What are online SVMs?"
   ]
  },
  {
   "cell_type": "code",
   "execution_count": null,
   "id": "5275ad07",
   "metadata": {},
   "outputs": [],
   "source": []
  },
  {
   "cell_type": "markdown",
   "id": "9d3b7e8b",
   "metadata": {},
   "source": [
    "Q90. Why is it important to scale the inputs when using SVMs?"
   ]
  },
  {
   "cell_type": "code",
   "execution_count": null,
   "id": "037aa022",
   "metadata": {},
   "outputs": [],
   "source": []
  },
  {
   "cell_type": "markdown",
   "id": "9c87b0b6",
   "metadata": {},
   "source": [
    "Q91. Can an SVM classifier output a confidence score when it classifies an instance?"
   ]
  },
  {
   "cell_type": "code",
   "execution_count": null,
   "id": "c4005b49",
   "metadata": {},
   "outputs": [],
   "source": []
  },
  {
   "cell_type": "markdown",
   "id": "a931d2ac",
   "metadata": {},
   "source": [
    "Q92. Should you use the primal or the dual form of the SVM problem to train a model\n",
    "on a training set with millions of instances and hundreds of features?"
   ]
  },
  {
   "cell_type": "code",
   "execution_count": null,
   "id": "4cfcc3d0",
   "metadata": {},
   "outputs": [],
   "source": []
  },
  {
   "cell_type": "markdown",
   "id": "5e111732",
   "metadata": {},
   "source": [
    "Q93. Say you’ve trained an SVM classifier with an RBF kernel, but it seems to underfit\n",
    "the training set. Should you increase or decrease γ (gamma)? What about C?"
   ]
  },
  {
   "cell_type": "code",
   "execution_count": null,
   "id": "1527ee2f",
   "metadata": {},
   "outputs": [],
   "source": []
  },
  {
   "cell_type": "markdown",
   "id": "de8a1e35",
   "metadata": {},
   "source": [
    "Q94. How should you set the QP parameters (H, f, A, and b) to solve the soft margin\n",
    "linear SVM classifier problem using an off-the-shelf QP solver?"
   ]
  },
  {
   "cell_type": "code",
   "execution_count": null,
   "id": "e9833824",
   "metadata": {},
   "outputs": [],
   "source": []
  },
  {
   "cell_type": "markdown",
   "id": "bb5be14c",
   "metadata": {},
   "source": [
    "Q95. Train a LinearSVC on a linearly separable dataset. Then train an SVC and a\n",
    "SGDClassifier on the [iris dataset](https://archive.ics.uci.edu/ml/datasets/iris). See if you can get them to produce roughly the same model."
   ]
  },
  {
   "cell_type": "code",
   "execution_count": null,
   "id": "f73a0d99",
   "metadata": {},
   "outputs": [],
   "source": []
  },
  {
   "cell_type": "markdown",
   "id": "589122e2",
   "metadata": {},
   "source": [
    "Q96. Train an SVM classifier on the MNIST dataset. Since SVM classifiers are binary\n",
    "classifiers, you will need to use one-versus-the-rest to classify all 10 digits. You\n",
    "may want to tune the hyperparameters using small validation sets to speed up the\n",
    "process. What accuracy can you reach?"
   ]
  },
  {
   "cell_type": "code",
   "execution_count": null,
   "id": "52cc63f2",
   "metadata": {},
   "outputs": [],
   "source": []
  },
  {
   "cell_type": "markdown",
   "id": "c15bc242",
   "metadata": {},
   "source": [
    "Q97. Train an SVM regressor on the [housing dataset](https://www.dcc.fc.up.pt/~ltorgo/Regression/cal_housing.html)."
   ]
  },
  {
   "cell_type": "code",
   "execution_count": null,
   "id": "b33b28ee",
   "metadata": {},
   "outputs": [],
   "source": []
  }
 ],
 "metadata": {
  "hide_input": false,
  "kernelspec": {
   "display_name": "Python 3 (ipykernel)",
   "language": "python",
   "name": "python3"
  },
  "language_info": {
   "codemirror_mode": {
    "name": "ipython",
    "version": 3
   },
   "file_extension": ".py",
   "mimetype": "text/x-python",
   "name": "python",
   "nbconvert_exporter": "python",
   "pygments_lexer": "ipython3",
   "version": "3.9.12"
  },
  "nbTranslate": {
   "displayLangs": [
    "*"
   ],
   "hotkey": "alt-t",
   "langInMainMenu": true,
   "sourceLang": "en",
   "targetLang": "fr",
   "useGoogleTranslate": true
  },
  "toc": {
   "base_numbering": 1,
   "nav_menu": {},
   "number_sections": true,
   "sideBar": true,
   "skip_h1_title": false,
   "title_cell": "Table of Contents",
   "title_sidebar": "Contents",
   "toc_cell": false,
   "toc_position": {},
   "toc_section_display": true,
   "toc_window_display": false
  }
 },
 "nbformat": 4,
 "nbformat_minor": 5
}
