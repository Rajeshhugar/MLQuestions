{
 "cells": [
  {
   "cell_type": "markdown",
   "id": "d9bc6dc6",
   "metadata": {},
   "source": [
    "## Dimensionality Reduction"
   ]
  },
  {
   "cell_type": "markdown",
   "id": "15dc23d1",
   "metadata": {},
   "source": [
    "Q173. What is curse of dimensionality?"
   ]
  },
  {
   "cell_type": "code",
   "execution_count": null,
   "id": "b27b2a7f",
   "metadata": {},
   "outputs": [],
   "source": []
  },
  {
   "cell_type": "markdown",
   "id": "dad2405a",
   "metadata": {},
   "source": [
    "Q174. What is advantage of dimensionality reduction?"
   ]
  },
  {
   "cell_type": "code",
   "execution_count": null,
   "id": "72cd5f63",
   "metadata": {},
   "outputs": [],
   "source": []
  },
  {
   "cell_type": "markdown",
   "id": "7679c47a",
   "metadata": {},
   "source": [
    "Q175. Explain the projection technique."
   ]
  },
  {
   "cell_type": "code",
   "execution_count": null,
   "id": "394c04a9",
   "metadata": {},
   "outputs": [],
   "source": []
  },
  {
   "cell_type": "markdown",
   "id": "e0529b64",
   "metadata": {},
   "source": [
    "Q176. For what kind of dataset is the projection technique unsuitable?"
   ]
  },
  {
   "cell_type": "code",
   "execution_count": null,
   "id": "cd5d4ea9",
   "metadata": {},
   "outputs": [],
   "source": []
  },
  {
   "cell_type": "markdown",
   "id": "478cb43d",
   "metadata": {},
   "source": [
    "Q177. What is mainfold learning?"
   ]
  },
  {
   "cell_type": "code",
   "execution_count": null,
   "id": "aad033b9",
   "metadata": {},
   "outputs": [],
   "source": []
  },
  {
   "cell_type": "markdown",
   "id": "0ae44ba0",
   "metadata": {},
   "source": [
    "Q178. What is manifold assumption?"
   ]
  },
  {
   "cell_type": "code",
   "execution_count": null,
   "id": "404834e0",
   "metadata": {},
   "outputs": [],
   "source": []
  },
  {
   "cell_type": "markdown",
   "id": "431e2d0c",
   "metadata": {},
   "source": [
    "Q179. What is PCA (Principal Component Analysis)?"
   ]
  },
  {
   "cell_type": "code",
   "execution_count": null,
   "id": "df6ec95f",
   "metadata": {},
   "outputs": [],
   "source": []
  },
  {
   "cell_type": "markdown",
   "id": "e2e1781a",
   "metadata": {},
   "source": [
    "Q180. Explain how PCA reduces the dimension of the data."
   ]
  },
  {
   "cell_type": "code",
   "execution_count": null,
   "id": "0f99adeb",
   "metadata": {},
   "outputs": [],
   "source": []
  },
  {
   "cell_type": "markdown",
   "id": "dc6f2865",
   "metadata": {},
   "source": [
    "Q181. What is the use of Principal Components in PCA?"
   ]
  },
  {
   "cell_type": "code",
   "execution_count": null,
   "id": "5d9e1ce9",
   "metadata": {},
   "outputs": [],
   "source": []
  },
  {
   "cell_type": "markdown",
   "id": "f0a29b1c",
   "metadata": {},
   "source": [
    "Q182. How can you find the principal components of a training set?"
   ]
  },
  {
   "cell_type": "code",
   "execution_count": null,
   "id": "5b4ddb7f",
   "metadata": {},
   "outputs": [],
   "source": []
  },
  {
   "cell_type": "markdown",
   "id": "19c92ff0",
   "metadata": {},
   "source": [
    "Q183. What is explained variance ratio?"
   ]
  },
  {
   "cell_type": "code",
   "execution_count": null,
   "id": "c3e83255",
   "metadata": {},
   "outputs": [],
   "source": []
  },
  {
   "cell_type": "markdown",
   "id": "44b0a120",
   "metadata": {},
   "source": [
    "Q184. How can you choose the right number of dimension of reduction?"
   ]
  },
  {
   "cell_type": "code",
   "execution_count": null,
   "id": "26257443",
   "metadata": {},
   "outputs": [],
   "source": []
  },
  {
   "cell_type": "markdown",
   "id": "cba7802b",
   "metadata": {},
   "source": [
    "Q185. How can you use PCA of data compression?"
   ]
  },
  {
   "cell_type": "code",
   "execution_count": null,
   "id": "35c9320b",
   "metadata": {},
   "outputs": [],
   "source": []
  },
  {
   "cell_type": "markdown",
   "id": "380a3e0a",
   "metadata": {},
   "source": [
    "Q186. Compress the (MNIST data)[https://www.kaggle.com/datasets/oddrationale/mnist-in-csv] using PCA."
   ]
  },
  {
   "cell_type": "code",
   "execution_count": null,
   "id": "4012329e",
   "metadata": {},
   "outputs": [],
   "source": []
  },
  {
   "cell_type": "markdown",
   "id": "711edeeb",
   "metadata": {},
   "source": [
    "Q187. What is Randomized PCA?"
   ]
  },
  {
   "cell_type": "code",
   "execution_count": null,
   "id": "bd072dfd",
   "metadata": {},
   "outputs": [],
   "source": []
  },
  {
   "cell_type": "markdown",
   "id": "c2e70b06",
   "metadata": {},
   "source": [
    "Q188. What is Incremental PCA?"
   ]
  },
  {
   "cell_type": "code",
   "execution_count": null,
   "id": "e9f717ad",
   "metadata": {},
   "outputs": [],
   "source": []
  },
  {
   "cell_type": "markdown",
   "id": "9dbb19f3",
   "metadata": {},
   "source": [
    "Q189. Explain Kernel PCA."
   ]
  },
  {
   "cell_type": "code",
   "execution_count": null,
   "id": "4c3ed4a2",
   "metadata": {},
   "outputs": [],
   "source": []
  },
  {
   "cell_type": "markdown",
   "id": "8f419533",
   "metadata": {},
   "source": [
    "Q190. How can you select the best kernel and hyperparamter for dimensionality reduction?"
   ]
  },
  {
   "cell_type": "code",
   "execution_count": null,
   "id": "cae70716",
   "metadata": {},
   "outputs": [],
   "source": []
  },
  {
   "cell_type": "markdown",
   "id": "17b865c7",
   "metadata": {},
   "source": [
    "Q191. What is LLE (Locally Linear Embedding)?"
   ]
  },
  {
   "cell_type": "code",
   "execution_count": null,
   "id": "69cda2af",
   "metadata": {},
   "outputs": [],
   "source": []
  },
  {
   "cell_type": "markdown",
   "id": "db17fee6",
   "metadata": {},
   "source": [
    "Q192. Expalin the working of LLE."
   ]
  },
  {
   "cell_type": "code",
   "execution_count": null,
   "id": "cd06ca8e",
   "metadata": {},
   "outputs": [],
   "source": []
  },
  {
   "cell_type": "markdown",
   "id": "cf9baf44",
   "metadata": {},
   "source": [
    "Q193. What is Random Projections?"
   ]
  },
  {
   "cell_type": "code",
   "execution_count": null,
   "id": "6529407e",
   "metadata": {},
   "outputs": [],
   "source": []
  },
  {
   "cell_type": "markdown",
   "id": "d43aca4d",
   "metadata": {},
   "source": [
    "Q194. What is MDS (Multi Dimensional Scaling)?"
   ]
  },
  {
   "cell_type": "code",
   "execution_count": null,
   "id": "9b28f3ff",
   "metadata": {},
   "outputs": [],
   "source": []
  },
  {
   "cell_type": "markdown",
   "id": "973c7cf3",
   "metadata": {},
   "source": [
    "Q195. What is Isomap?"
   ]
  },
  {
   "cell_type": "code",
   "execution_count": null,
   "id": "2b1abb13",
   "metadata": {},
   "outputs": [],
   "source": []
  },
  {
   "cell_type": "markdown",
   "id": "cd05c29e",
   "metadata": {},
   "source": [
    "Q196. What is t-SNE (t-Distributed Stochastic Neighbor Embedding)?"
   ]
  },
  {
   "cell_type": "code",
   "execution_count": null,
   "id": "a0ccaf81",
   "metadata": {},
   "outputs": [],
   "source": []
  },
  {
   "cell_type": "markdown",
   "id": "1d43d767",
   "metadata": {},
   "source": [
    "Q197. What is LDA (Linear Discriminant Analysis)?"
   ]
  },
  {
   "cell_type": "code",
   "execution_count": null,
   "id": "65fd60e5",
   "metadata": {},
   "outputs": [],
   "source": []
  },
  {
   "cell_type": "markdown",
   "id": "1101b902",
   "metadata": {},
   "source": [
    "Q198. Once a dataset’s dimensionality has been reduced, is it possible to reverse the"
   ]
  },
  {
   "cell_type": "code",
   "execution_count": null,
   "id": "7a321af5",
   "metadata": {},
   "outputs": [],
   "source": []
  },
  {
   "cell_type": "markdown",
   "id": "935a3dc8",
   "metadata": {},
   "source": [
    "Q198. Once a dataset’s dimensionality has been reduced, is it possible to reverse the\n",
    "operation? If so, how? If not, why?\n",
    "\n",
    "Q199. Can PCA be used to reduce the dimensionality of a highly nonlinear dataset?"
   ]
  },
  {
   "cell_type": "code",
   "execution_count": null,
   "id": "7f549c38",
   "metadata": {},
   "outputs": [],
   "source": []
  },
  {
   "cell_type": "markdown",
   "id": "9326972c",
   "metadata": {},
   "source": [
    "Q200. Suppose you perform PCA on a 1,000-dimensional dataset, setting the explained\n",
    "variance ratio to 95%. How many dimensions will the resulting dataset have?"
   ]
  },
  {
   "cell_type": "code",
   "execution_count": null,
   "id": "b7e7b8c5",
   "metadata": {},
   "outputs": [],
   "source": []
  },
  {
   "cell_type": "markdown",
   "id": "989b8282",
   "metadata": {},
   "source": [
    "Q201. In what cases would you use vanilla PCA, Incremental PCA, Randomized PCA,\n",
    "or Kernel PCA?"
   ]
  },
  {
   "cell_type": "code",
   "execution_count": null,
   "id": "0d0afcf3",
   "metadata": {},
   "outputs": [],
   "source": []
  },
  {
   "cell_type": "markdown",
   "id": "da5c8622",
   "metadata": {},
   "source": [
    "Q202. How can you evaluate the performance of a dimensionality reduction algorithm\n",
    "on your dataset?"
   ]
  },
  {
   "cell_type": "code",
   "execution_count": null,
   "id": "a436375c",
   "metadata": {},
   "outputs": [],
   "source": []
  },
  {
   "cell_type": "markdown",
   "id": "134629ab",
   "metadata": {},
   "source": [
    "Q203. Does it make any sense to chain two different dimensionality reduction algorithms?"
   ]
  },
  {
   "cell_type": "code",
   "execution_count": null,
   "id": "60b2256a",
   "metadata": {},
   "outputs": [],
   "source": []
  },
  {
   "cell_type": "markdown",
   "id": "d214fa0a",
   "metadata": {},
   "source": [
    "Q204. Load the (MNIST data)[https://www.kaggle.com/datasets/oddrationale/mnist-in-csv] and split it into a training set and a test set (take the first 60,000 instances for training, and the remaining 10,000 for testing). Train a Random Forest classifier on the dataset and time how long it takes, then evaluate the resulting model on the test set. Next, use PCA to reduce the dataset’s dimensionality, with an explained variance ratio of 95%. Train a new Random Forest classifier on the reduced dataset and see how long it takes. Was training much faster? Next, evaluate the classifier on the test set. How does it compare to the previous classifier?"
   ]
  },
  {
   "cell_type": "code",
   "execution_count": null,
   "id": "3d1cff85",
   "metadata": {},
   "outputs": [],
   "source": []
  },
  {
   "cell_type": "markdown",
   "id": "81d43538",
   "metadata": {},
   "source": [
    "Q205. Use t-SNE to reduce the MNIST dataset down to two dimensions and plot the\n",
    "result using Matplotlib. You can use a scatterplot using 10 different colors to rep‐\n",
    "resent each image’s target class. Alternatively, you can replace each dot in the\n",
    "scatterplot with the corresponding instance’s class (a digit from 0 to 9), or even\n",
    "plot scaled-down versions of the digit images themselves (if you plot all digits,\n",
    "the visualization will be too cluttered, so you should either draw a random sam‐\n",
    "ple or plot an instance only if no other instance has already been plotted at a\n",
    "close distance). You should get a nice visualization with well-separated clusters of\n",
    "digits. Try using other dimensionality reduction algorithms such as PCA, LLE, or\n",
    "MDS and compare the resulting visualizations."
   ]
  },
  {
   "cell_type": "code",
   "execution_count": null,
   "id": "0d2db421",
   "metadata": {},
   "outputs": [],
   "source": []
  }
 ],
 "metadata": {
  "hide_input": false,
  "kernelspec": {
   "display_name": "Python 3 (ipykernel)",
   "language": "python",
   "name": "python3"
  },
  "language_info": {
   "codemirror_mode": {
    "name": "ipython",
    "version": 3
   },
   "file_extension": ".py",
   "mimetype": "text/x-python",
   "name": "python",
   "nbconvert_exporter": "python",
   "pygments_lexer": "ipython3",
   "version": "3.9.12"
  },
  "nbTranslate": {
   "displayLangs": [
    "*"
   ],
   "hotkey": "alt-t",
   "langInMainMenu": true,
   "sourceLang": "en",
   "targetLang": "fr",
   "useGoogleTranslate": true
  },
  "toc": {
   "base_numbering": 1,
   "nav_menu": {},
   "number_sections": true,
   "sideBar": true,
   "skip_h1_title": false,
   "title_cell": "Table of Contents",
   "title_sidebar": "Contents",
   "toc_cell": false,
   "toc_position": {},
   "toc_section_display": true,
   "toc_window_display": false
  }
 },
 "nbformat": 4,
 "nbformat_minor": 5
}
