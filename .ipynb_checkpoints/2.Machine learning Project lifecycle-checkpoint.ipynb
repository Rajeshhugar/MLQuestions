{
 "cells": [
  {
   "cell_type": "markdown",
   "id": "f63e1c4f",
   "metadata": {},
   "source": [
    "## Machine learning Project lifecycle"
   ]
  },
  {
   "cell_type": "markdown",
   "id": "15957d0b",
   "metadata": {},
   "source": [
    "Q14. Describe the lifecycle of the machine learning system."
   ]
  },
  {
   "cell_type": "code",
   "execution_count": null,
   "id": "ec8e4ac6",
   "metadata": {},
   "outputs": [],
   "source": []
  },
  {
   "cell_type": "markdown",
   "id": "31a71852",
   "metadata": {},
   "source": [
    "Q15. What is the necessity of understanding the problem statement and creating a well defined architecture?"
   ]
  },
  {
   "cell_type": "code",
   "execution_count": null,
   "id": "afb22bbf",
   "metadata": {},
   "outputs": [],
   "source": []
  },
  {
   "cell_type": "markdown",
   "id": "0f8ff894",
   "metadata": {},
   "source": [
    "Q16. Why do we create a separate workspace for every problem statement?"
   ]
  },
  {
   "cell_type": "code",
   "execution_count": null,
   "id": "b269ff6b",
   "metadata": {},
   "outputs": [],
   "source": []
  },
  {
   "cell_type": "markdown",
   "id": "dc226d20",
   "metadata": {},
   "source": [
    "Q17. What are the different sources which can be used as a source of data gathering?"
   ]
  },
  {
   "cell_type": "code",
   "execution_count": null,
   "id": "92f3cabb",
   "metadata": {},
   "outputs": [],
   "source": []
  },
  {
   "cell_type": "markdown",
   "id": "20eb0fd7",
   "metadata": {},
   "source": [
    "Q18. What is the data annotation?"
   ]
  },
  {
   "cell_type": "code",
   "execution_count": null,
   "id": "0333c5c5",
   "metadata": {},
   "outputs": [],
   "source": []
  },
  {
   "cell_type": "markdown",
   "id": "2eb71ed9",
   "metadata": {},
   "source": [
    "Q19. What are the different steps involved in data wrangling?"
   ]
  },
  {
   "cell_type": "code",
   "execution_count": null,
   "id": "a6a4babe",
   "metadata": {},
   "outputs": [],
   "source": []
  },
  {
   "cell_type": "markdown",
   "id": "b11d452f",
   "metadata": {},
   "source": [
    "Q20. What are the steps involved in model development?"
   ]
  },
  {
   "cell_type": "code",
   "execution_count": null,
   "id": "cf84fc35",
   "metadata": {},
   "outputs": [],
   "source": []
  },
  {
   "cell_type": "markdown",
   "id": "1c495077",
   "metadata": {},
   "source": [
    "Q21. What are the different steps involved in model training?"
   ]
  },
  {
   "cell_type": "code",
   "execution_count": null,
   "id": "4e4643ce",
   "metadata": {},
   "outputs": [],
   "source": []
  },
  {
   "cell_type": "markdown",
   "id": "bc90bcfb",
   "metadata": {},
   "source": [
    "Q22. What is hyperparameter tuning?"
   ]
  },
  {
   "cell_type": "code",
   "execution_count": null,
   "id": "44fa4fef",
   "metadata": {},
   "outputs": [],
   "source": []
  },
  {
   "cell_type": "markdown",
   "id": "6eb76a4c",
   "metadata": {},
   "source": [
    "Q22. What are the different steps involved in model evaluation?"
   ]
  },
  {
   "cell_type": "code",
   "execution_count": null,
   "id": "56bb10c1",
   "metadata": {},
   "outputs": [],
   "source": []
  },
  {
   "cell_type": "markdown",
   "id": "9054f68b",
   "metadata": {},
   "source": [
    "Q23. What is model over fitting and under fitting?"
   ]
  },
  {
   "cell_type": "code",
   "execution_count": null,
   "id": "a928d282",
   "metadata": {},
   "outputs": [],
   "source": []
  },
  {
   "cell_type": "markdown",
   "id": "5095a591",
   "metadata": {},
   "source": [
    "Q24. What is model deployment?"
   ]
  },
  {
   "cell_type": "code",
   "execution_count": null,
   "id": "3aa65053",
   "metadata": {},
   "outputs": [],
   "source": []
  },
  {
   "cell_type": "markdown",
   "id": "8b0ebaa4",
   "metadata": {},
   "source": [
    "Q25. What are the different sources where we can deploy our model?"
   ]
  },
  {
   "cell_type": "code",
   "execution_count": null,
   "id": "1c1e890f",
   "metadata": {},
   "outputs": [],
   "source": []
  },
  {
   "cell_type": "markdown",
   "id": "dd7b4c07",
   "metadata": {},
   "source": [
    "Q26. What is model monitoring and how can we do it?"
   ]
  },
  {
   "cell_type": "code",
   "execution_count": null,
   "id": "566a4141",
   "metadata": {},
   "outputs": [],
   "source": []
  },
  {
   "cell_type": "markdown",
   "id": "2e8222be",
   "metadata": {},
   "source": [
    "Q27. What is model retraining?"
   ]
  },
  {
   "cell_type": "code",
   "execution_count": null,
   "id": "42ada4dd",
   "metadata": {},
   "outputs": [],
   "source": []
  },
  {
   "cell_type": "markdown",
   "id": "91ee7b9a",
   "metadata": {},
   "source": [
    "Q28. What are the conditions when we need to do model retraining?"
   ]
  },
  {
   "cell_type": "code",
   "execution_count": null,
   "id": "f8481897",
   "metadata": {},
   "outputs": [],
   "source": []
  },
  {
   "cell_type": "markdown",
   "id": "d64d9f53",
   "metadata": {},
   "source": [
    "Q29. Download the [housing data](https://www.dcc.fc.up.pt/~ltorgo/Regression/cal_housing.html) and train a machine learning model and can be used to predict the price of house given the required parameters."
   ]
  },
  {
   "cell_type": "code",
   "execution_count": null,
   "id": "2d612944",
   "metadata": {},
   "outputs": [],
   "source": []
  },
  {
   "cell_type": "markdown",
   "id": "aff3d6ab",
   "metadata": {},
   "source": [
    "Q30. Try creating a single pipeline that does every steps from data preparation to model prediction."
   ]
  },
  {
   "cell_type": "code",
   "execution_count": null,
   "id": "f0029ea0",
   "metadata": {},
   "outputs": [],
   "source": []
  },
  {
   "cell_type": "markdown",
   "id": "e846c65b",
   "metadata": {},
   "source": [
    "## EXTRA Ques"
   ]
  },
  {
   "cell_type": "markdown",
   "id": "e16d7784",
   "metadata": {},
   "source": [
    "- E01: is there any similiraty between data augumentation and annotation"
   ]
  },
  {
   "cell_type": "code",
   "execution_count": null,
   "id": "e42d3b83",
   "metadata": {},
   "outputs": [],
   "source": []
  }
 ],
 "metadata": {
  "hide_input": false,
  "kernelspec": {
   "display_name": "Python 3 (ipykernel)",
   "language": "python",
   "name": "python3"
  },
  "language_info": {
   "codemirror_mode": {
    "name": "ipython",
    "version": 3
   },
   "file_extension": ".py",
   "mimetype": "text/x-python",
   "name": "python",
   "nbconvert_exporter": "python",
   "pygments_lexer": "ipython3",
   "version": "3.9.12"
  },
  "nbTranslate": {
   "displayLangs": [
    "*"
   ],
   "hotkey": "alt-t",
   "langInMainMenu": true,
   "sourceLang": "en",
   "targetLang": "fr",
   "useGoogleTranslate": true
  },
  "toc": {
   "base_numbering": 1,
   "nav_menu": {},
   "number_sections": true,
   "sideBar": true,
   "skip_h1_title": false,
   "title_cell": "Table of Contents",
   "title_sidebar": "Contents",
   "toc_cell": false,
   "toc_position": {},
   "toc_section_display": true,
   "toc_window_display": false
  }
 },
 "nbformat": 4,
 "nbformat_minor": 5
}
