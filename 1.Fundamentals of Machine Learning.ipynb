{
 "cells": [
  {
   "cell_type": "markdown",
   "id": "5ce7a83b",
   "metadata": {},
   "source": [
    "## Fundamentals of Machine Learning"
   ]
  },
  {
   "cell_type": "markdown",
   "id": "84ed8240",
   "metadata": {},
   "source": [
    "### Q1. What is machine learning?"
   ]
  },
  {
   "cell_type": "markdown",
   "id": "aa39e942",
   "metadata": {},
   "source": [
    "Machine learning is a subfield of artificial intelligence that focuses on the design and development of algorithms that can learn patterns and make predictions or decisions without being explicitly programmed to do so. It involves training algorithms on large amounts of data to identify patterns and relationships, and then using these patterns to make predictions or decisions on new, unseen data.\n",
    "\n",
    "Machine learning algorithms can be divided into three main categories: supervised learning, unsupervised learning, and reinforcement learning. In supervised learning, the algorithm is trained on a labeled dataset, with the goal of learning a mapping from input variables to output variables. In unsupervised learning, the algorithm is trained on an unlabeled dataset, with the goal of finding patterns or structures in the data. In reinforcement learning, the algorithm learns from the consequences of its actions, with the goal of maximizing a reward signal over time.\n",
    "\n",
    "Machine learning is used in a wide variety of applications, including image and speech recognition, natural language processing, recommendation systems, and predictive modeling. It has become a powerful tool for solving real-world problems in industries ranging from healthcare and finance to marketing and transportation.\n",
    "\n",
    "\n",
    "\n"
   ]
  },
  {
   "cell_type": "markdown",
   "id": "e2140145",
   "metadata": {},
   "source": [
    "### Q2. Why do we use machine learning?"
   ]
  },
  {
   "cell_type": "markdown",
   "id": "802a1669",
   "metadata": {},
   "source": [
    "Machine learning is used for a variety of reasons, including:\n",
    "\n",
    "- Automating complex tasks: Machine learning can be used to automate tasks that would otherwise require human intervention, such as image or speech recognition, natural language processing, and predictive modeling.\n",
    "\n",
    "- Improving decision making: Machine learning algorithms can analyze vast amounts of data to identify patterns and relationships, which can be used to make more informed decisions and predictions in industries such as finance, healthcare, and marketing.\n",
    "\n",
    "- Handling large and complex datasets: Machine learning algorithms are designed to handle large and complex datasets, making it possible to extract meaningful insights from data that would otherwise be overwhelming for humans to analyze.\n",
    "\n",
    "- Improving accuracy: Machine learning algorithms can be trained to make predictions or decisions with a high degree of accuracy, especially when compared to traditional rule-based systems.\n",
    "\n",
    "- Personalization: Machine learning can be used to create personalized experiences for users, such as personalized recommendations in e-commerce, or personalized medicine in healthcare.\n",
    "\n",
    "In short, machine learning is used to automate complex tasks, improve decision making, handle large and complex datasets, improve accuracy, and personalize experiences.\n",
    "\n",
    "\n",
    "\n"
   ]
  },
  {
   "cell_type": "markdown",
   "id": "24705c23",
   "metadata": {},
   "source": [
    "### Q3. How many types of machine learning systems do we have?"
   ]
  },
  {
   "cell_type": "markdown",
   "id": "f023a8cd",
   "metadata": {},
   "source": [
    "There are three main types of machine learning systems:\n",
    "\n",
    "- Supervised learning: In supervised learning, the algorithm is trained on a labeled dataset, with the goal of learning a mapping from input variables to output variables. This is the most commonly used type of machine learning, and it is used in applications such as image and speech recognition, and predictive modeling.\n",
    "\n",
    "- Unsupervised learning: In unsupervised learning, the algorithm is trained on an unlabeled dataset, with the goal of finding patterns or structures in the data. This type of machine learning is used in applications such as anomaly detection and clustering.\n",
    "\n",
    "- Reinforcement learning: In reinforcement learning, the algorithm learns from the consequences of its actions, with the goal of maximizing a reward signal over time. This type of machine learning is used in applications such as game playing and robotics.\n",
    "\n",
    "There are also other, more specialized types of machine learning, such as semi-supervised learning, transfer learning, and deep learning, but these are variations or combinations of the three main types.\n",
    "\n",
    "\n",
    "\n"
   ]
  },
  {
   "cell_type": "markdown",
   "id": "3358ca38",
   "metadata": {},
   "source": [
    "### Q4. What is the difference between supervised and unsupervised learning system?"
   ]
  },
  {
   "cell_type": "markdown",
   "id": "b695c20d",
   "metadata": {},
   "source": [
    "Supervised and unsupervised learning are two different types of machine learning algorithms, with different goals and approaches.\n",
    "\n",
    "- Supervised learning: In supervised learning, the algorithm is trained on a labeled dataset, with the goal of learning a mapping from input variables to output variables. This means that the algorithm is provided with labeled examples of the input-output relationships, and its task is to learn this mapping so that it can make predictions on new, unseen data. Supervised learning is used in applications such as image and speech recognition, and predictive modeling.\n",
    "\n",
    "- Unsupervised learning: In unsupervised learning, the algorithm is trained on an unlabeled dataset, with the goal of finding patterns or structures in the data. This means that the algorithm must find relationships and representations within the data on its own, without being guided by labeled examples. Unsupervised learning is used in applications such as anomaly detection and clustering.\n",
    "\n",
    "In summary, supervised learning is used when the goal is to learn a mapping from inputs to outputs, whereas unsupervised learning is used when the goal is to find patterns or structures in the data."
   ]
  },
  {
   "cell_type": "markdown",
   "id": "fedca0c6",
   "metadata": {},
   "source": [
    "### Q5. What is semi-supervised learning system?"
   ]
  },
  {
   "cell_type": "markdown",
   "id": "5aae9b98",
   "metadata": {},
   "source": [
    "- Semi-supervised learning is a type of machine learning that lies between supervised and unsupervised learning. It is used when only a limited amount of labeled data is available, and the goal is to make the most of this limited labeled data while still making use of the large amount of unlabeled data.\n",
    "\n",
    "- In semi-supervised learning, the algorithm is trained on a combination of labeled and unlabeled data. The labeled data provides the algorithm with supervised information, while the unlabeled data allows the algorithm to learn additional information that would not be available if only labeled data were used. The idea is that the additional information from the unlabeled data can help improve the overall performance of the model.\n",
    "\n",
    "- Semi-supervised learning is useful in many real-world applications where obtaining labeled data is expensive or time-consuming, and large amounts of unlabeled data are available. Examples of such applications include text classification, image classification, and speech recognition."
   ]
  },
  {
   "cell_type": "markdown",
   "id": "64a9f0b7",
   "metadata": {},
   "source": [
    "### Q6. What is reinforcement learning?"
   ]
  },
  {
   "cell_type": "markdown",
   "id": "e312a2c8",
   "metadata": {},
   "source": [
    "- Reinforcement learning is a type of machine learning where an agent learns how to behave in an environment by performing actions and observing the rewards it receives. The goal of the agent is to maximize the cumulative reward over time by choosing actions that lead to the highest expected reward.\n",
    "\n",
    "- Reinforcement learning involves the following components:\n",
    "\n",
    "- Agent: The agent is the entity that makes decisions and takes actions in the environment.\n",
    "\n",
    "- Environment: The environment is the system or situation that the agent interacts with. The environment provides the agent with information about its state and the rewards for taking certain actions.\n",
    "\n",
    "- Actions: The actions are the choices that the agent makes in response to the state of the environment.\n",
    "\n",
    "- Rewards: The rewards are the feedback that the agent receives from the environment in response to its actions. The rewards signal to the agent whether its actions are leading to desirable outcomes or not.\n",
    "\n",
    "- Policy: The policy is a mapping from states to actions, and it represents the agent's strategy for choosing actions in response to the state of the environment.\n",
    "\n",
    "- The agent uses trial-and-error and learning algorithms to improve its policy over time, so that it can take actions that lead to higher rewards. Reinforcement learning is used in a variety of applications, including robotics, game playing, and autonomous control systems."
   ]
  },
  {
   "cell_type": "markdown",
   "id": "f7437bfc",
   "metadata": {},
   "source": [
    "### Q7. What is batch and online learning?"
   ]
  },
  {
   "cell_type": "markdown",
   "id": "88d2260e",
   "metadata": {},
   "source": [
    "Batch learning and online learning are two different learning paradigms in machine learning.\n",
    "\n",
    "Batch learning, also known as offline learning, is a learning paradigm where the model is trained on a batch of data and then used for making predictions. In batch learning, the entire dataset is used for training the model, and the model is updated only after the entire dataset has been processed. Batch learning is appropriate when the data is stable and does not change frequently.\n",
    "\n",
    "Online learning, on the other hand, is a learning paradigm where the model is updated incrementally as new data is made available. In online learning, the model is trained on a small batch of data at a time, and the model is updated after processing each batch. Online learning is appropriate when the data is dynamic and changes frequently.\n",
    "\n",
    "The main difference between batch and online learning is the way the model is updated. Batch learning updates the model after processing the entire dataset, while online learning updates the model incrementally as new data is made available. The choice between batch and online learning depends on the nature of the data and the requirements of the application."
   ]
  },
  {
   "cell_type": "markdown",
   "id": "0e50d791",
   "metadata": {},
   "source": [
    "### Q8. What is the difference between instance-based and model-based learning system?"
   ]
  },
  {
   "cell_type": "markdown",
   "id": "cc4e87fd",
   "metadata": {},
   "source": [
    "Instance-based learning and model-based learning are two different learning paradigms in machine learning.\n",
    "\n",
    "Instance-based learning is a type of learning where the model learns from individual examples and uses them as a reference to make predictions. The model does not explicitly learn a general representation of the data, but instead stores a set of representative instances and uses them to make predictions for new examples. In instance-based learning, the model compares the new example to the stored instances and predicts the output based on the closest match.\n",
    "\n",
    "Model-based learning, on the other hand, is a type of learning where the model learns a general representation of the data and uses it to make predictions. The model is trained on a set of examples and learns a mathematical model that describes the relationship between inputs and outputs. In model-based learning, the model can be used to make predictions for new examples without reference to the original training data.\n",
    "\n",
    "The main difference between instance-based and model-based learning is the way the model is constructed. Instance-based learning is based on individual examples, while model-based learning is based on a general representation of the data. The choice between instance-based and model-based learning depends on the complexity of the data and the requirements of the application.\n",
    "\n",
    "\n",
    "\n"
   ]
  },
  {
   "cell_type": "markdown",
   "id": "6608a4b9",
   "metadata": {},
   "source": [
    "### Q9. What are the challenges faced by the machine learning systems?"
   ]
  },
  {
   "cell_type": "markdown",
   "id": "80164023",
   "metadata": {},
   "source": [
    "There are several challenges faced by machine learning systems, including:\n",
    "\n",
    "Data Quality: The quality of the data used for training the model can have a significant impact on the performance of the model. Poor quality data, such as missing or inconsistent data, can result in biased or incorrect models.\n",
    "\n",
    "Overfitting: Overfitting is a common problem in machine learning where the model becomes too closely fit to the training data, resulting in poor generalization to new data.\n",
    "\n",
    "Model Selection: Choosing the right model for the problem can be challenging as there are many different algorithms to choose from, each with its own strengths and weaknesses.\n",
    "\n",
    "Hyperparameter tuning: Selecting the right hyperparameters for a model can be challenging as the optimal values can depend on the problem and the data.\n",
    "\n",
    "Data Scalability: Machine learning algorithms can require a large amount of data to produce accurate models, and this can be a challenge for problems with limited data.\n",
    "\n",
    "Explainability: Some machine learning models, such as deep neural networks, can be difficult to understand and interpret, making it challenging to explain their predictions.\n",
    "\n",
    "Deployment: Deploying machine learning models in production environments can be challenging due to technical and operational considerations.\n",
    "\n",
    "These are some of the main challenges faced by machine learning systems, and addressing them is crucial for developing effective and reliable models."
   ]
  },
  {
   "cell_type": "markdown",
   "id": "5cba2dbe",
   "metadata": {},
   "source": [
    "### Q10. What is out-of-core learning?"
   ]
  },
  {
   "cell_type": "markdown",
   "id": "8b3911cd",
   "metadata": {},
   "source": [
    "Out-of-core learning refers to the process of training a machine learning model on a large dataset that cannot be loaded into memory all at once. This is particularly relevant for datasets that are too large to fit into the memory of a single machine.\n",
    "\n",
    "In out-of-core learning, the dataset is divided into smaller chunks and the model is trained incrementally on each chunk. The model updates its parameters after each chunk, and the final model is the result of aggregating the updates from all the chunks.\n",
    "\n",
    "Out-of-core learning enables training on very large datasets, as it allows training to be performed on machines with limited memory. It also makes it possible to process streaming data in real-time, as the model can be updated as new data becomes available."
   ]
  },
  {
   "cell_type": "markdown",
   "id": "c09f2255",
   "metadata": {},
   "source": [
    "### Q11. If a company wants to develop a system which can be used if a mail is ham or spam mail, then which type of learning system should be used?"
   ]
  },
  {
   "cell_type": "markdown",
   "id": "d8d50dbc",
   "metadata": {},
   "source": [
    "If a company wants to develop a system to classify emails as either ham (legitimate) or spam, then a supervised learning system would be appropriate. In a supervised learning problem, the model is trained on a labeled dataset, where the label indicates the class of each example (e.g., ham or spam). The goal of the model is to learn a mapping from the input features (e.g., email content, sender, subject) to the output label (ham or spam).\n",
    "\n",
    "For the email classification problem, the model would be trained on a labeled dataset of emails, where each email has been manually labeled as either ham or spam. The model would learn to identify patterns and features in the emails that are indicative of spam or ham. Once trained, the model can then be used to predict the label of new, unseen emails.\n",
    "\n",
    "\n",
    "\n"
   ]
  },
  {
   "cell_type": "markdown",
   "id": "3c893207",
   "metadata": {},
   "source": [
    "### Q12. If a company wants to predict a model-based learning system which can be used to predict the cost of a car based on certain parameters, then which type of learning system should be used?"
   ]
  },
  {
   "cell_type": "markdown",
   "id": "7a8458c2",
   "metadata": {},
   "source": [
    "If a company wants to predict the cost of a car based on certain parameters, then a supervised learning system would be appropriate. In this case, the task is to predict a continuous output value (the cost of a car) given a set of input features (e.g. make, model, year, engine size, number of doors, etc.). This type of problem is known as a regression problem, and it can be solved using supervised learning algorithms such as linear regression, decision trees, random forests, and neural networks.\n",
    "\n",
    "The process would involve collecting labeled training data, where the input features and the corresponding car prices are known. The model would then be trained on this dataset, learning the mapping from input features to the car price. Once trained, the model can be used to make predictions for new, unseen cars based on their features. The quality of the predictions can be evaluated by comparing the model's predictions to the actual prices of the cars in the test set.\n",
    "\n",
    "\n",
    "\n"
   ]
  },
  {
   "cell_type": "markdown",
   "id": "15b169ac",
   "metadata": {},
   "source": [
    "### Q13. If a company wants to train a robot which has the ability to take decisions based on the current state of the robot, then which type of learning system should be used?"
   ]
  },
  {
   "cell_type": "markdown",
   "id": "22e789ac",
   "metadata": {},
   "source": [
    "If a company wants to train a robot to take decisions based on the current state of the robot, then the type of learning system that should be used is Reinforcement Learning.\n",
    "\n",
    "Reinforcement Learning is a type of machine learning that focuses on training agents to make decisions in an environment, where the agent receives rewards or penalties based on its actions. In this type of learning, the agent learns from experience, by repeatedly observing the environment and updating its policy to maximize the cumulative reward.\n",
    "\n",
    "The training process in reinforcement learning involves the agent taking actions in the environment, observing the state of the environment and the reward, and using this information to update its policy. The agent continues to take actions and update its policy, until it reaches a satisfactory level of performance.\n",
    "\n",
    "Reinforcement learning is well-suited for training robots to make decisions based on the current state of the robot, as it allows the robot to learn from experience, and to adjust its behavior based on the rewards it receives. This makes it ideal for tasks that involve decision-making, such as navigation, control, and manipulation, where the robot must take actions based on its observations of the environment.\n",
    "\n",
    "\n",
    "\n"
   ]
  },
  {
   "cell_type": "markdown",
   "id": "bf0852c9",
   "metadata": {},
   "source": [
    "## Extra Ques?"
   ]
  },
  {
   "cell_type": "markdown",
   "id": "547f2f76",
   "metadata": {},
   "source": [
    "### - E1. Parametric and Non parametric models"
   ]
  },
  {
   "cell_type": "markdown",
   "id": "a81e7979",
   "metadata": {},
   "source": [
    "Parametric and non-parametric models are two broad categories of machine learning models that are used to make predictions based on input data.\n",
    "\n",
    "Parametric models have a fixed number of parameters, which are learned from the training data. Examples of parametric models include linear regression, logistic regression, and Gaussian mixture models. The key advantage of parametric models is that they are relatively simple and easy to interpret, and they can be trained very efficiently. However, they can only capture a limited set of relationships between the input features and the target variable, and they may not be flexible enough to model complex non-linear relationships.\n",
    "\n",
    "Non-parametric models, on the other hand, do not have a fixed number of parameters, and the number of parameters grows with the size of the training data. Examples of non-parametric models include decision trees, random forests, and support vector machines (SVMs). Non-parametric models are typically more flexible and can capture more complex relationships between the input features and the target variable. However, they can be more difficult to interpret, and they may require more computational resources to train.\n",
    "\n",
    "In general, the choice between parametric and non-parametric models depends on the nature of the problem, the size and complexity of the data, and the computational resources available. In many cases, a combination of both types of models may be used, with a parametric model providing a baseline performance and a non-parametric model providing more complex modeling capabilities.\n",
    "\n",
    "\n",
    "\n"
   ]
  },
  {
   "cell_type": "markdown",
   "id": "35630868",
   "metadata": {},
   "source": [
    "### - E2. Regression (Quantitative) and Classification (Qualitive)"
   ]
  },
  {
   "cell_type": "markdown",
   "id": "014d89f9",
   "metadata": {},
   "source": [
    "Regression and classification are two common types of supervised machine learning problems.\n",
    "\n",
    "Regression is a type of problem that involves predicting a continuous quantitative output (also known as the target or response variable) based on one or more inputs (also known as features or predictors). Regression models can be used to model relationships between the target variable and the features and make predictions based on new input data. Examples of regression problems include predicting the price of a stock, the salary of an employee based on their years of experience, and the expected lifespan of a machine based on its usage history.\n",
    "\n",
    "Classification, on the other hand, is a type of problem that involves predicting a categorical qualitative output (also known as the target or response variable) based on one or more inputs (also known as features or predictors). Classification models can be used to assign an input data point to one of several predefined classes. Examples of classification problems include image classification, text classification, and customer segmentation.\n",
    "\n",
    "In both regression and classification problems, the goal of machine learning is to build a model that can make accurate predictions on new, unseen data based on the relationships learned from the training data. The choice between regression and classification depends on the nature of the problem and the type of output that needs to be predicted."
   ]
  },
  {
   "cell_type": "markdown",
   "id": "1d9e5be3",
   "metadata": {},
   "source": [
    "### - E3. What is federated learning? "
   ]
  },
  {
   "cell_type": "markdown",
   "id": "2dfbc305",
   "metadata": {},
   "source": [
    "Federated Learning is a distributed machine learning paradigm that enables building models using data that resides on multiple devices or edge nodes, without requiring the data to be centralized or shared.\n",
    "\n",
    "In a typical federated learning setup, the data sources are spread across multiple devices or edge nodes, each of which has its own local computation and storage. The devices communicate with a central server, which coordinates the training process by sending out model updates to the devices, and receiving model parameters back from the devices. The devices update their local model parameters using their own data and the model updates received from the server, and then send the updated model parameters back to the server. This process is repeated multiple times, until the model has converged or reached an acceptable level of accuracy.\n",
    "\n",
    "The main advantage of federated learning is that it allows for privacy-preserving model training, as the raw data remains on the devices and is not transmitted or shared with the central server. This makes it suitable for scenarios where data privacy is a concern, such as in healthcare, finance, or internet-of-things (IoT) applications.\n",
    "\n",
    "Federated learning also has the advantage of being able to scale to large numbers of devices, and being able to handle non-IID (Independent and Identically Distributed) data, where the data distribution across devices may be different. This makes it suitable for large-scale and decentralized applications, such as in mobile networks or IoT applications.\n",
    "\n",
    "\n",
    "\n"
   ]
  },
  {
   "cell_type": "markdown",
   "id": "d97e091b",
   "metadata": {},
   "source": [
    "## Other Questions from HandsML"
   ]
  },
  {
   "cell_type": "markdown",
   "id": "f0340836",
   "metadata": {},
   "source": [
    "### How would you define Machine Learning?\n",
    "1. Machine Learning is about building systems that can learn from data. Learning means getting better at some task, given some performance measure."
   ]
  },
  {
   "cell_type": "markdown",
   "id": "6656de15",
   "metadata": {},
   "source": [
    "### Can you name four types of problems where it shines?\n",
    "2. Machine Learning is great for complex problems for which we have no algorithmic solution, to replace long lists of hand-tuned rules, to build systems that adapt to fluctuating environments, and finally to help humans learn (e.g., data mining)."
   ]
  },
  {
   "cell_type": "markdown",
   "id": "78cc7128",
   "metadata": {},
   "source": [
    "### What is a labeled training set? "
   ]
  },
  {
   "cell_type": "markdown",
   "id": "7b85480f",
   "metadata": {},
   "source": [
    "3. A labeled training set is a training set that contains the desired solution (a.k.a. a label) for each instance."
   ]
  },
  {
   "cell_type": "markdown",
   "id": "5717e336",
   "metadata": {},
   "source": [
    "### What are the two most common supervised tasks?\n",
    "4. The two most common supervised tasks are regression and classification."
   ]
  },
  {
   "cell_type": "markdown",
   "id": "43e38d5e",
   "metadata": {},
   "source": [
    "### Can you name four common unsupervised tasks?\n",
    " Common unsupervised tasks include clustering, visualization, dimensionality reduction, and association rule learning."
   ]
  },
  {
   "cell_type": "markdown",
   "id": "f4523608",
   "metadata": {},
   "source": [
    "### What type of Machine Learning algorithm would you use to allow a robot to\n",
    "walk in various unknown terrains?\n",
    "6. Reinforcement Learning is likely to perform best if we want a robot to learn to walk in various unknown terrains, since this is typically the type of problem that Reinforcement Learning tackles. It might be possible to express the problem as a supervised or semi-supervised learning problem, but it would be less natural."
   ]
  },
  {
   "cell_type": "markdown",
   "id": "528ec139",
   "metadata": {},
   "source": [
    "### What type of algorithm would you use to segment your customers into multiple groups?\n",
    "7. If you don't know how to define the groups, then you can use a clustering algorithm (unsupervised learning) to segment your customers into clusters of similar customers. However, if you know what groups you would like to have, then you can feed many examples of each group to a classification algorithm (supervised learning), and it will classify all your customers into these groups."
   ]
  },
  {
   "cell_type": "markdown",
   "id": "9e329968",
   "metadata": {},
   "source": [
    "### Would you frame the problem of spam detection as a supervised learning problem or an unsupervised learning problem? \n",
    "8. Spam detection is a typical supervised learning problem: the algorithm is fed many emails along with their labels (spam or not spam)."
   ]
  },
  {
   "cell_type": "markdown",
   "id": "85c6c686",
   "metadata": {},
   "source": [
    "### What is an online learning system?\n",
    "\n",
    "9. An online learning system can learn incrementally, as opposed to a batch learning system. This makes it capable of adapting rapidly to both changing data and autonomous systems, and of training on very large quantities of data."
   ]
  },
  {
   "cell_type": "markdown",
   "id": "182a2b90",
   "metadata": {},
   "source": [
    "###  What is out-of-core learning?\n",
    "10. Out-of-core algorithms can handle vast quantities of data that cannot fit in a computer's main memory. An out-of-core learning algorithm chops the data into mini-batches and uses online learning techniques to learn from these mini-batches."
   ]
  },
  {
   "cell_type": "markdown",
   "id": "69c64f78",
   "metadata": {},
   "source": [
    "### What type of learning algorithm relies on a similarity measure to make predictions?"
   ]
  },
  {
   "cell_type": "markdown",
   "id": "ff666ad9",
   "metadata": {},
   "source": [
    "11. An instance-based learning system learns the training data by heart; then, when given a new instance, it uses a similarity measure to find the most similar learned instances and uses them to make predictions."
   ]
  },
  {
   "cell_type": "markdown",
   "id": "7c1c1173",
   "metadata": {},
   "source": [
    "### What is the difference between a model parameter and a learning algorithm’s hyperparameter?\n",
    "12. A model has one or more model parameters that determine what it will predict given a new instance (e.g., the slope of a linear model). A learning algorithm tries to find optimal values for these parameters such that the model generalizes well to new instances. A hyperparameter is a parameter of the learning algorithm itself, not of the model (e.g., the amount of regularization to apply)."
   ]
  },
  {
   "cell_type": "markdown",
   "id": "bace7470",
   "metadata": {},
   "source": [
    "### What do model-based learning algorithms search for? What is the most common strategy they use to succeed? How do they make predictions?\n",
    "13. Model-based learning algorithms search for an optimal value for the model parameters such that the model will generalize well to new instances. We usually train such systems by minimizing a cost function that measures how bad the system is at making predictions on the training data, plus a penalty for model complexity if the model is regularized. To make predictions, we feed the new instance's features into the model's prediction function, using the parameter values found by the learning algorithm."
   ]
  },
  {
   "cell_type": "markdown",
   "id": "e2c838b9",
   "metadata": {},
   "source": [
    "### Can you name four of the main challenges in Machine Learning?\n",
    "14. Some of the main challenges in Machine Learning are the lack of data, poor data quality, nonrepresentative data, uninformative features, excessively simple models that underfit the training data, and excessively complex models that overfit the data."
   ]
  },
  {
   "cell_type": "markdown",
   "id": "95e2e4ae",
   "metadata": {},
   "source": [
    "### If your model performs great on the training data but generalizes poorly to new\n",
    "instances, what is happening? Can you name three possible solutions?\n",
    "15. If a model performs great on the training data but generalizes poorly to new instances, the model is likely overfitting the training data (or we got extremely lucky on the training data). Possible solutions to overfitting are getting more data, simplifying the model (selecting a simpler algorithm, reducing the number of parameters or features used, or regularizing the model), or reducing the noise in the training data."
   ]
  },
  {
   "cell_type": "markdown",
   "id": "4e27401e",
   "metadata": {},
   "source": [
    "### What is a test set and why would you want to use it?\n",
    "16. A test set is used to estimate the generalization error that a model will make on new instances, before the model is launched in production."
   ]
  },
  {
   "cell_type": "markdown",
   "id": "cb7cc93d",
   "metadata": {},
   "source": [
    "### What is the purpose of a validation set?\n",
    "17. A validation set is used to compare models. It makes it possible to select the best model and tune the hyperparameters."
   ]
  },
  {
   "cell_type": "markdown",
   "id": "b378b0e0",
   "metadata": {},
   "source": [
    "### What can go wrong if you tune hyperparameters using the test set?"
   ]
  },
  {
   "cell_type": "markdown",
   "id": "f993184a",
   "metadata": {},
   "source": [
    "18. The train-dev set is used when there is a risk of mismatch between the training data and the data used in the validation and test datasets (which should always be as close as possible to the data used once the model is in production). The train-dev set is a part of the training set that's held out (the model is not trained on it). The model is trained on the rest of the training set, and evaluated on both the train-dev set and the validation set. If the model performs well on the training set but not on the train-dev set, then the model is likely overfitting the training set. If it performs well on both the training set and the train-dev set, but not on the validation set, then there is probably a significant data mismatch between the training data and the validation + test data, and you should try to improve the training data to make it look more like the validation + test data."
   ]
  },
  {
   "cell_type": "markdown",
   "id": "9bc2e731",
   "metadata": {},
   "source": [
    "### What is repeated cross-validation and why would you prefer it to using a single validation set?"
   ]
  },
  {
   "cell_type": "markdown",
   "id": "c82bba5f",
   "metadata": {},
   "source": [
    "19. If you tune hyperparameters using the test set, you risk overfitting the test set, and the generalization error you measure will be optimistic (you may launch a model that performs worse than you expect)."
   ]
  },
  {
   "cell_type": "code",
   "execution_count": null,
   "id": "4625c3f6",
   "metadata": {},
   "outputs": [],
   "source": []
  }
 ],
 "metadata": {
  "hide_input": false,
  "kernelspec": {
   "display_name": "Rajesh_3.10",
   "language": "python",
   "name": "rajesh_3.10"
  },
  "language_info": {
   "codemirror_mode": {
    "name": "ipython",
    "version": 3
   },
   "file_extension": ".py",
   "mimetype": "text/x-python",
   "name": "python",
   "nbconvert_exporter": "python",
   "pygments_lexer": "ipython3",
   "version": "3.10.4"
  },
  "nbTranslate": {
   "displayLangs": [
    "*"
   ],
   "hotkey": "alt-t",
   "langInMainMenu": true,
   "sourceLang": "en",
   "targetLang": "fr",
   "useGoogleTranslate": true
  },
  "toc": {
   "base_numbering": 1,
   "nav_menu": {},
   "number_sections": true,
   "sideBar": true,
   "skip_h1_title": false,
   "title_cell": "Table of Contents",
   "title_sidebar": "Contents",
   "toc_cell": false,
   "toc_position": {},
   "toc_section_display": true,
   "toc_window_display": false
  }
 },
 "nbformat": 4,
 "nbformat_minor": 5
}
