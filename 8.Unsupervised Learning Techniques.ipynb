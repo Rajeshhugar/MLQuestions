{
 "cells": [
  {
   "cell_type": "markdown",
   "id": "2e9c0cad",
   "metadata": {},
   "source": [
    "Q207. What is clustering? Give a real world sernario where you can apply clustering."
   ]
  },
  {
   "cell_type": "code",
   "execution_count": null,
   "id": "90a13d15",
   "metadata": {},
   "outputs": [],
   "source": []
  },
  {
   "cell_type": "markdown",
   "id": "946be69d",
   "metadata": {},
   "source": [
    "Q208. What is the difference between classification and clustering?"
   ]
  },
  {
   "cell_type": "code",
   "execution_count": null,
   "id": "cadfe27d",
   "metadata": {},
   "outputs": [],
   "source": []
  },
  {
   "cell_type": "markdown",
   "id": "a2c33435",
   "metadata": {},
   "source": [
    "Q209. Expalin how K-Memans clusters the data sets."
   ]
  },
  {
   "cell_type": "code",
   "execution_count": null,
   "id": "3a982edb",
   "metadata": {},
   "outputs": [],
   "source": []
  },
  {
   "cell_type": "markdown",
   "id": "80a55ded",
   "metadata": {},
   "source": [
    "Q210. What is Voronoi tessellation?"
   ]
  },
  {
   "cell_type": "code",
   "execution_count": null,
   "id": "c3a3ec53",
   "metadata": {},
   "outputs": [],
   "source": []
  },
  {
   "cell_type": "markdown",
   "id": "22f2f0fe",
   "metadata": {},
   "source": [
    "Q211. How can we measure the distance from each instance to every centroid?"
   ]
  },
  {
   "cell_type": "code",
   "execution_count": null,
   "id": "f7ae87dc",
   "metadata": {},
   "outputs": [],
   "source": []
  },
  {
   "cell_type": "markdown",
   "id": "94955a02",
   "metadata": {},
   "source": [
    "Q212. What is the drawback if we randomly initialize the centroids?"
   ]
  },
  {
   "cell_type": "code",
   "execution_count": null,
   "id": "cc18af66",
   "metadata": {},
   "outputs": [],
   "source": []
  },
  {
   "cell_type": "markdown",
   "id": "fc41a5be",
   "metadata": {},
   "source": [
    "Q213. What are the methods for centroid initialization?"
   ]
  },
  {
   "cell_type": "code",
   "execution_count": null,
   "id": "05a6d819",
   "metadata": {},
   "outputs": [],
   "source": []
  },
  {
   "cell_type": "markdown",
   "id": "a86c0ba6",
   "metadata": {},
   "source": [
    "Q214. What is acclerated K-Means clustering?"
   ]
  },
  {
   "cell_type": "code",
   "execution_count": null,
   "id": "c0e1d310",
   "metadata": {},
   "outputs": [],
   "source": []
  },
  {
   "cell_type": "markdown",
   "id": "6bcc9227",
   "metadata": {},
   "source": [
    "Q215. What is the advantage of acclerated K-Means clustering over K-Means clustering?"
   ]
  },
  {
   "cell_type": "code",
   "execution_count": null,
   "id": "67c52900",
   "metadata": {},
   "outputs": [],
   "source": []
  },
  {
   "cell_type": "markdown",
   "id": "3e9f6deb",
   "metadata": {},
   "source": [
    "Q216. What is mini batch K-Means clustering?"
   ]
  },
  {
   "cell_type": "code",
   "execution_count": null,
   "id": "506cbd12",
   "metadata": {},
   "outputs": [],
   "source": []
  },
  {
   "cell_type": "markdown",
   "id": "debf0b82",
   "metadata": {},
   "source": [
    "Q217. How mini batch K-Means clustering acclerates the model training?"
   ]
  },
  {
   "cell_type": "code",
   "execution_count": null,
   "id": "54904d1c",
   "metadata": {},
   "outputs": [],
   "source": []
  },
  {
   "cell_type": "markdown",
   "id": "4c2ed9bd",
   "metadata": {},
   "source": [
    "Q218. What are the alternative if your data does not fit into the memory of your system?"
   ]
  },
  {
   "cell_type": "code",
   "execution_count": null,
   "id": "7149f1ef",
   "metadata": {},
   "outputs": [],
   "source": []
  },
  {
   "cell_type": "markdown",
   "id": "452aea90",
   "metadata": {},
   "source": [
    "Q219. How can you find the optimal number of clusters?"
   ]
  },
  {
   "cell_type": "code",
   "execution_count": null,
   "id": "855f0615",
   "metadata": {},
   "outputs": [],
   "source": []
  },
  {
   "cell_type": "markdown",
   "id": "226fad42",
   "metadata": {},
   "source": [
    "Q220. What is the use silhouette score?"
   ]
  },
  {
   "cell_type": "code",
   "execution_count": null,
   "id": "54f642bd",
   "metadata": {},
   "outputs": [],
   "source": []
  },
  {
   "cell_type": "markdown",
   "id": "c56cae38",
   "metadata": {},
   "source": [
    "Q221. What is the use silhouette coefficient?"
   ]
  },
  {
   "cell_type": "code",
   "execution_count": null,
   "id": "d7d9af7a",
   "metadata": {},
   "outputs": [],
   "source": []
  },
  {
   "cell_type": "markdown",
   "id": "64d19cf8",
   "metadata": {},
   "source": [
    "Q222. List some limitation of K-Means clustering."
   ]
  },
  {
   "cell_type": "code",
   "execution_count": null,
   "id": "98a0537b",
   "metadata": {},
   "outputs": [],
   "source": []
  },
  {
   "cell_type": "markdown",
   "id": "deeaa857",
   "metadata": {},
   "source": [
    "Q223. How can clustering be used for Image Segmentation?"
   ]
  },
  {
   "cell_type": "code",
   "execution_count": null,
   "id": "cdb7174e",
   "metadata": {},
   "outputs": [],
   "source": []
  },
  {
   "cell_type": "markdown",
   "id": "bb13d4fb",
   "metadata": {},
   "source": [
    "Q224. Can we use clustering for preprocessing in ML lifecycle? If no why, if yes how?"
   ]
  },
  {
   "cell_type": "code",
   "execution_count": null,
   "id": "411bdaa2",
   "metadata": {},
   "outputs": [],
   "source": []
  },
  {
   "cell_type": "markdown",
   "id": "b6b62dbe",
   "metadata": {},
   "source": [
    "Q225. Use clustering algorithm as a demo for sem-supervised learning."
   ]
  },
  {
   "cell_type": "code",
   "execution_count": null,
   "id": "e19de483",
   "metadata": {},
   "outputs": [],
   "source": []
  },
  {
   "cell_type": "markdown",
   "id": "8cf1228d",
   "metadata": {},
   "source": [
    "Q226. What is active learning?"
   ]
  },
  {
   "cell_type": "code",
   "execution_count": null,
   "id": "b02895fb",
   "metadata": {},
   "outputs": [],
   "source": []
  },
  {
   "cell_type": "markdown",
   "id": "0f0bb856",
   "metadata": {},
   "source": [
    "Q227. Expalin DBSCAN."
   ]
  },
  {
   "cell_type": "code",
   "execution_count": null,
   "id": "8c3974c8",
   "metadata": {},
   "outputs": [],
   "source": []
  },
  {
   "cell_type": "markdown",
   "id": "4dc5f3c5",
   "metadata": {},
   "source": [
    "Q228. What is local density based estimation?"
   ]
  },
  {
   "cell_type": "code",
   "execution_count": null,
   "id": "b3405635",
   "metadata": {},
   "outputs": [],
   "source": []
  },
  {
   "cell_type": "markdown",
   "id": "d814ee63",
   "metadata": {},
   "source": [
    "Q229. Can we predict which cluster a new data set belongs to using predict method in DBSCAN. Support your answer with appropriate reasons?"
   ]
  },
  {
   "cell_type": "code",
   "execution_count": null,
   "id": "235ab2b4",
   "metadata": {},
   "outputs": [],
   "source": []
  },
  {
   "cell_type": "markdown",
   "id": "b556ceec",
   "metadata": {},
   "source": []
  },
  {
   "cell_type": "code",
   "execution_count": null,
   "id": "0682a99b",
   "metadata": {},
   "outputs": [],
   "source": []
  },
  {
   "cell_type": "markdown",
   "id": "1749ce16",
   "metadata": {},
   "source": [
    "Q230. How is prediction done in DBSCAN?"
   ]
  },
  {
   "cell_type": "code",
   "execution_count": null,
   "id": "aad53bc8",
   "metadata": {},
   "outputs": [],
   "source": []
  },
  {
   "cell_type": "markdown",
   "id": "b20f3561",
   "metadata": {},
   "source": [
    "Q231. Do outliers affect DBSCAN performance?"
   ]
  },
  {
   "cell_type": "code",
   "execution_count": null,
   "id": "edb19fc3",
   "metadata": {},
   "outputs": [],
   "source": []
  },
  {
   "cell_type": "markdown",
   "id": "2e11a11a",
   "metadata": {},
   "source": [
    "Q232. Explain HDBSCAN (Hierarchical DBSCAN)."
   ]
  },
  {
   "cell_type": "code",
   "execution_count": null,
   "id": "a463fdd9",
   "metadata": {},
   "outputs": [],
   "source": []
  },
  {
   "cell_type": "markdown",
   "id": "63febcc9",
   "metadata": {},
   "source": [
    "Q233. Explain Agglomerative clustering."
   ]
  },
  {
   "cell_type": "code",
   "execution_count": null,
   "id": "a6c41336",
   "metadata": {},
   "outputs": [],
   "source": []
  },
  {
   "cell_type": "markdown",
   "id": "59ef9bed",
   "metadata": {},
   "source": [
    "Q234. What is bottom up approach?"
   ]
  },
  {
   "cell_type": "code",
   "execution_count": null,
   "id": "e7709807",
   "metadata": {},
   "outputs": [],
   "source": []
  },
  {
   "cell_type": "markdown",
   "id": "9ef77ca3",
   "metadata": {},
   "source": [
    "Q235. Explain BIRCH ((Balanced Iterative Reducing and Clustering using Hierarchies) algorithm."
   ]
  },
  {
   "cell_type": "code",
   "execution_count": null,
   "id": "395d8157",
   "metadata": {},
   "outputs": [],
   "source": []
  },
  {
   "cell_type": "markdown",
   "id": "819fef00",
   "metadata": {},
   "source": [
    "Q236. Explain Mean-Shift algorithm."
   ]
  },
  {
   "cell_type": "code",
   "execution_count": null,
   "id": "36919d72",
   "metadata": {},
   "outputs": [],
   "source": []
  },
  {
   "cell_type": "markdown",
   "id": "8c854e9d",
   "metadata": {},
   "source": [
    "Q237. What is Affinity propagation?"
   ]
  },
  {
   "cell_type": "code",
   "execution_count": null,
   "id": "1f3b4a60",
   "metadata": {},
   "outputs": [],
   "source": []
  },
  {
   "cell_type": "markdown",
   "id": "3f91fa3b",
   "metadata": {},
   "source": [
    "Q238. What is Spectral clustering?"
   ]
  },
  {
   "cell_type": "code",
   "execution_count": null,
   "id": "1f3d5271",
   "metadata": {},
   "outputs": [],
   "source": []
  },
  {
   "cell_type": "markdown",
   "id": "a2c0e80f",
   "metadata": {},
   "source": [
    "Q239. What is Gaussian Distribution?"
   ]
  },
  {
   "cell_type": "code",
   "execution_count": null,
   "id": "95a11e4a",
   "metadata": {},
   "outputs": [],
   "source": []
  },
  {
   "cell_type": "markdown",
   "id": "12cfc25a",
   "metadata": {},
   "source": [
    "Q240. What is Gaussian Mixture Model?"
   ]
  },
  {
   "cell_type": "code",
   "execution_count": null,
   "id": "655316aa",
   "metadata": {},
   "outputs": [],
   "source": []
  },
  {
   "cell_type": "markdown",
   "id": "4a67c451",
   "metadata": {},
   "source": [
    "Q241. Expalin the working of Gaussian Mixture Model."
   ]
  },
  {
   "cell_type": "code",
   "execution_count": null,
   "id": "07a668b9",
   "metadata": {},
   "outputs": [],
   "source": []
  },
  {
   "cell_type": "markdown",
   "id": "3f6bcef3",
   "metadata": {},
   "source": [
    "Q242. What is anomaly?"
   ]
  },
  {
   "cell_type": "code",
   "execution_count": null,
   "id": "fe517a9e",
   "metadata": {},
   "outputs": [],
   "source": []
  },
  {
   "cell_type": "markdown",
   "id": "f9349461",
   "metadata": {},
   "source": [
    "Q243. What are the techniques that can be used to find anomaly in the data set?"
   ]
  },
  {
   "cell_type": "code",
   "execution_count": null,
   "id": "19bc39cd",
   "metadata": {},
   "outputs": [],
   "source": []
  },
  {
   "cell_type": "markdown",
   "id": "55b8472a",
   "metadata": {},
   "source": [
    "Q244. How can you use Gaussian Mixture for anomaly detection?"
   ]
  },
  {
   "cell_type": "code",
   "execution_count": null,
   "id": "e98e503b",
   "metadata": {},
   "outputs": [],
   "source": []
  },
  {
   "cell_type": "markdown",
   "id": "b21e5c9f",
   "metadata": {},
   "source": [
    "Q245. What is likelihood function?"
   ]
  },
  {
   "cell_type": "code",
   "execution_count": null,
   "id": "d90e6c53",
   "metadata": {},
   "outputs": [],
   "source": []
  },
  {
   "cell_type": "markdown",
   "id": "dfb1969b",
   "metadata": {},
   "source": [
    "Q246. Explain Bayesian Gaussian Mixture Models."
   ]
  },
  {
   "cell_type": "code",
   "execution_count": null,
   "id": "dbafcf76",
   "metadata": {},
   "outputs": [],
   "source": []
  },
  {
   "cell_type": "markdown",
   "id": "81d24468",
   "metadata": {},
   "source": [
    "Q247. List the difference between Gaussian Mixture Model and Bayesian Gaussian Mixture Model."
   ]
  },
  {
   "cell_type": "code",
   "execution_count": null,
   "id": "51e44659",
   "metadata": {},
   "outputs": [],
   "source": []
  },
  {
   "cell_type": "markdown",
   "id": "3ef60987",
   "metadata": {},
   "source": [
    "Q248. How can you use Fast-MCD(minimum covariance determinant) for anomaly detection?"
   ]
  },
  {
   "cell_type": "code",
   "execution_count": null,
   "id": "e85b7ca2",
   "metadata": {},
   "outputs": [],
   "source": []
  },
  {
   "cell_type": "markdown",
   "id": "a4928abb",
   "metadata": {},
   "source": [
    "Q249. How can you use Isolation Forest for anomaly detection?"
   ]
  },
  {
   "cell_type": "code",
   "execution_count": null,
   "id": "a4ce5acb",
   "metadata": {},
   "outputs": [],
   "source": []
  },
  {
   "cell_type": "markdown",
   "id": "049614f0",
   "metadata": {},
   "source": [
    "Q250. How can you use LOF(Local Outlier Factor) for anomaly detection?"
   ]
  },
  {
   "cell_type": "code",
   "execution_count": null,
   "id": "a9c52f1e",
   "metadata": {},
   "outputs": [],
   "source": []
  },
  {
   "cell_type": "markdown",
   "id": "195b850d",
   "metadata": {},
   "source": [
    "Q251. How can you use One-class SVM for anomaly detection?"
   ]
  },
  {
   "cell_type": "code",
   "execution_count": null,
   "id": "5bc696a9",
   "metadata": {},
   "outputs": [],
   "source": []
  },
  {
   "cell_type": "markdown",
   "id": "04111920",
   "metadata": {},
   "source": [
    "Q252. What is label propagation? Why would you implement it, and how?"
   ]
  },
  {
   "cell_type": "code",
   "execution_count": null,
   "id": "198654af",
   "metadata": {},
   "outputs": [],
   "source": []
  },
  {
   "cell_type": "markdown",
   "id": "38a22a6f",
   "metadata": {},
   "source": [
    "Q253. Can you name two clustering algorithms that can scale to large datasets? And two that look for regions of high "
   ]
  },
  {
   "cell_type": "code",
   "execution_count": null,
   "id": "df327abd",
   "metadata": {},
   "outputs": [],
   "source": []
  },
  {
   "cell_type": "markdown",
   "id": "cb63d889",
   "metadata": {},
   "source": [
    "Q253. Can you name two clustering algorithms that can scale to large datasets? And two that look for regions of high density?"
   ]
  },
  {
   "cell_type": "code",
   "execution_count": null,
   "id": "911821d9",
   "metadata": {},
   "outputs": [],
   "source": []
  },
  {
   "cell_type": "markdown",
   "id": "a60c8e19",
   "metadata": {},
   "source": [
    "Q254. Can you think of a use case where active learning would be useful? How would\n",
    "you implement it?"
   ]
  },
  {
   "cell_type": "code",
   "execution_count": null,
   "id": "47f99320",
   "metadata": {},
   "outputs": [],
   "source": []
  },
  {
   "cell_type": "markdown",
   "id": "71d16017",
   "metadata": {},
   "source": [
    "Q255. What is the difference between anomaly detection and novelty detection?"
   ]
  },
  {
   "cell_type": "code",
   "execution_count": null,
   "id": "f5dcfc95",
   "metadata": {},
   "outputs": [],
   "source": []
  },
  {
   "cell_type": "markdown",
   "id": "7dc44601",
   "metadata": {},
   "source": [
    "Q256. The [Olivetti faces dataset](https://www.kaggle.com/code/serkanpeldek/face-recognition-on-olivetti-dataset) contains 400 grayscale 64 × 64–pixel images of faces. Each image is flattened to a 1D vector of size 4,096. 40 different people were photographed (10 times each), and the usual task is to train a model that\n",
    "can predict which person is represented in each picture. Load the dataset, then split it into a training set, a validation set, and a test set (note that the dataset is already scaled between 0 and 1). Since the dataset is quite small, you probably want to use stratified sampling to ensure that there are the same number of images per person in each set. Next, cluster the images using K-Means, and ensure that you have a good number of clusters.\n",
    "Visualize the clusters: do you see similar faces in each cluster?"
   ]
  },
  {
   "cell_type": "code",
   "execution_count": null,
   "id": "81f17b65",
   "metadata": {},
   "outputs": [],
   "source": []
  },
  {
   "cell_type": "markdown",
   "id": "37a2620d",
   "metadata": {},
   "source": [
    "Q257. Continuing with the Olivetti faces dataset, train a classifier to predict which person is represented in each picture, and evaluate it on the validation set. Next, use K-Means as a dimensionality reduction tool, and train a classifier on the reduced set. Search for the number of clusters that allows the classifier to get the best performance: what performance can you reach? What if you append the features from the reduced set to the original features (again, searching for the best number of clusters)?"
   ]
  },
  {
   "cell_type": "code",
   "execution_count": null,
   "id": "1983930c",
   "metadata": {},
   "outputs": [],
   "source": []
  },
  {
   "cell_type": "markdown",
   "id": "90dd867c",
   "metadata": {},
   "source": [
    "Q258. Train a Gaussian mixture model on the Olivetti faces dataset. To speed up the\n",
    "algorithm, you should probably reduce the dataset’s dimensionality (e.g., use\n",
    "PCA, preserving 99% of the variance). Use the model to generate some new faces\n",
    "(using the sample() method), and visualize them (if you used PCA, you will need\n",
    "to use its inverse_transform() method). Try to modify some images (e.g.,\n",
    "rotate, flip, darken) and see if the model can detect the anomalies (i.e., compare\n",
    "the output of the score_samples() method for normal images and for anomalies)."
   ]
  },
  {
   "cell_type": "code",
   "execution_count": null,
   "id": "25c16403",
   "metadata": {},
   "outputs": [],
   "source": []
  },
  {
   "cell_type": "markdown",
   "id": "9f35fdfc",
   "metadata": {},
   "source": [
    "Q259. Some dimensionality reduction techniques can also be used for anomaly detection. For example, take the Olivetti faces dataset and reduce it with PCA, preserving 99% of the variance. Then compute the reconstruction error for each image.\n",
    "Next, take some of the modified images you built in the previous exercise, and\n",
    "look at their reconstruction error: notice how much larger the reconstruction\n",
    "error is. If you plot a reconstructed image, you will see why: it tries to reconstruct\n",
    "a normal face."
   ]
  },
  {
   "cell_type": "code",
   "execution_count": null,
   "id": "ac6083ab",
   "metadata": {},
   "outputs": [],
   "source": []
  }
 ],
 "metadata": {
  "hide_input": false,
  "kernelspec": {
   "display_name": "Python 3 (ipykernel)",
   "language": "python",
   "name": "python3"
  },
  "language_info": {
   "codemirror_mode": {
    "name": "ipython",
    "version": 3
   },
   "file_extension": ".py",
   "mimetype": "text/x-python",
   "name": "python",
   "nbconvert_exporter": "python",
   "pygments_lexer": "ipython3",
   "version": "3.9.12"
  },
  "nbTranslate": {
   "displayLangs": [
    "*"
   ],
   "hotkey": "alt-t",
   "langInMainMenu": true,
   "sourceLang": "en",
   "targetLang": "fr",
   "useGoogleTranslate": true
  },
  "toc": {
   "base_numbering": 1,
   "nav_menu": {},
   "number_sections": true,
   "sideBar": true,
   "skip_h1_title": false,
   "title_cell": "Table of Contents",
   "title_sidebar": "Contents",
   "toc_cell": false,
   "toc_position": {},
   "toc_section_display": true,
   "toc_window_display": false
  }
 },
 "nbformat": 4,
 "nbformat_minor": 5
}
